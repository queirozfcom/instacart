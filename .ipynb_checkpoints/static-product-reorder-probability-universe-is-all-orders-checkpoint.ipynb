{
 "cells": [
  {
   "cell_type": "markdown",
   "metadata": {},
   "source": [
    "## https://www.kaggle.com/c/instacart-market-basket-analysis\n",
    "\n",
    "- aisles.csv       \n",
    "\n",
    "- order_products__prior.csv  \n",
    "\n",
    "- orders.csv    \n",
    "\n",
    "- sample_submission.csv\n",
    "\n",
    "- departments.csv\n",
    "\n",
    "- order_products__train.csv\n",
    "\n",
    "- products.csv"
   ]
  },
  {
   "cell_type": "markdown",
   "metadata": {},
   "source": [
    "### instructions:\n",
    "\n",
    "> order_products_prior give the order information of all users in the history. order_products_train give the current order information of some users. You need to predict the current order of rest of users."
   ]
  },
  {
   "cell_type": "code",
   "execution_count": 1,
   "metadata": {
    "collapsed": true
   },
   "outputs": [],
   "source": [
    "import numpy as np\n",
    "import pandas as pd\n",
    "import pickle\n",
    "\n",
    "from tqdm import *"
   ]
  },
  {
   "cell_type": "code",
   "execution_count": 2,
   "metadata": {
    "collapsed": true
   },
   "outputs": [],
   "source": [
    "DATA_ROOT = \"/media/felipe/ssd_vol/instacart/\"\n",
    "PICKLE_ROOT = DATA_ROOT+\"pickles/\""
   ]
  },
  {
   "cell_type": "code",
   "execution_count": 3,
   "metadata": {
    "collapsed": true
   },
   "outputs": [],
   "source": [
    "aisles_df = pd.read_csv(DATA_ROOT+\"aisles.csv\")"
   ]
  },
  {
   "cell_type": "code",
   "execution_count": 4,
   "metadata": {
    "collapsed": true
   },
   "outputs": [],
   "source": [
    "last_items_ordered_df = pd.read_csv(DATA_ROOT+\"order_products__train.csv\")"
   ]
  },
  {
   "cell_type": "code",
   "execution_count": 5,
   "metadata": {
    "collapsed": true
   },
   "outputs": [],
   "source": [
    "orders_df = pd.read_csv(DATA_ROOT+\"/orders.csv\")"
   ]
  },
  {
   "cell_type": "code",
   "execution_count": 6,
   "metadata": {
    "collapsed": true
   },
   "outputs": [],
   "source": [
    "departments_df = pd.read_csv(DATA_ROOT+\"/departments.csv\")"
   ]
  },
  {
   "cell_type": "code",
   "execution_count": 7,
   "metadata": {
    "collapsed": true
   },
   "outputs": [],
   "source": [
    "products_df = pd.read_csv(DATA_ROOT+\"/products.csv\")"
   ]
  },
  {
   "cell_type": "code",
   "execution_count": 8,
   "metadata": {
    "collapsed": true
   },
   "outputs": [],
   "source": [
    "prior_items_ordered_df = pd.read_csv(DATA_ROOT+\"order_products__prior.csv\")"
   ]
  },
  {
   "cell_type": "markdown",
   "metadata": {},
   "source": [
    "## aisles"
   ]
  },
  {
   "cell_type": "code",
   "execution_count": 9,
   "metadata": {},
   "outputs": [
    {
     "data": {
      "text/html": [
       "<div>\n",
       "<style>\n",
       "    .dataframe thead tr:only-child th {\n",
       "        text-align: right;\n",
       "    }\n",
       "\n",
       "    .dataframe thead th {\n",
       "        text-align: left;\n",
       "    }\n",
       "\n",
       "    .dataframe tbody tr th {\n",
       "        vertical-align: top;\n",
       "    }\n",
       "</style>\n",
       "<table border=\"1\" class=\"dataframe\">\n",
       "  <thead>\n",
       "    <tr style=\"text-align: right;\">\n",
       "      <th></th>\n",
       "      <th>aisle_id</th>\n",
       "      <th>aisle</th>\n",
       "    </tr>\n",
       "  </thead>\n",
       "  <tbody>\n",
       "    <tr>\n",
       "      <th>133</th>\n",
       "      <td>134</td>\n",
       "      <td>specialty wines champagnes</td>\n",
       "    </tr>\n",
       "    <tr>\n",
       "      <th>8</th>\n",
       "      <td>9</td>\n",
       "      <td>pasta sauce</td>\n",
       "    </tr>\n",
       "    <tr>\n",
       "      <th>109</th>\n",
       "      <td>110</td>\n",
       "      <td>pickled goods olives</td>\n",
       "    </tr>\n",
       "    <tr>\n",
       "      <th>120</th>\n",
       "      <td>121</td>\n",
       "      <td>cereal</td>\n",
       "    </tr>\n",
       "    <tr>\n",
       "      <th>106</th>\n",
       "      <td>107</td>\n",
       "      <td>chips pretzels</td>\n",
       "    </tr>\n",
       "  </tbody>\n",
       "</table>\n",
       "</div>"
      ],
      "text/plain": [
       "     aisle_id                       aisle\n",
       "133       134  specialty wines champagnes\n",
       "8           9                 pasta sauce\n",
       "109       110        pickled goods olives\n",
       "120       121                      cereal\n",
       "106       107              chips pretzels"
      ]
     },
     "execution_count": 9,
     "metadata": {},
     "output_type": "execute_result"
    }
   ],
   "source": [
    "aisles_df.sample(5)"
   ]
  },
  {
   "cell_type": "markdown",
   "metadata": {},
   "source": [
    "## departments"
   ]
  },
  {
   "cell_type": "code",
   "execution_count": 10,
   "metadata": {},
   "outputs": [
    {
     "data": {
      "text/html": [
       "<div>\n",
       "<style>\n",
       "    .dataframe thead tr:only-child th {\n",
       "        text-align: right;\n",
       "    }\n",
       "\n",
       "    .dataframe thead th {\n",
       "        text-align: left;\n",
       "    }\n",
       "\n",
       "    .dataframe tbody tr th {\n",
       "        vertical-align: top;\n",
       "    }\n",
       "</style>\n",
       "<table border=\"1\" class=\"dataframe\">\n",
       "  <thead>\n",
       "    <tr style=\"text-align: right;\">\n",
       "      <th></th>\n",
       "      <th>department_id</th>\n",
       "      <th>department</th>\n",
       "    </tr>\n",
       "  </thead>\n",
       "  <tbody>\n",
       "    <tr>\n",
       "      <th>0</th>\n",
       "      <td>1</td>\n",
       "      <td>frozen</td>\n",
       "    </tr>\n",
       "    <tr>\n",
       "      <th>1</th>\n",
       "      <td>2</td>\n",
       "      <td>other</td>\n",
       "    </tr>\n",
       "    <tr>\n",
       "      <th>2</th>\n",
       "      <td>3</td>\n",
       "      <td>bakery</td>\n",
       "    </tr>\n",
       "    <tr>\n",
       "      <th>3</th>\n",
       "      <td>4</td>\n",
       "      <td>produce</td>\n",
       "    </tr>\n",
       "    <tr>\n",
       "      <th>4</th>\n",
       "      <td>5</td>\n",
       "      <td>alcohol</td>\n",
       "    </tr>\n",
       "  </tbody>\n",
       "</table>\n",
       "</div>"
      ],
      "text/plain": [
       "   department_id department\n",
       "0              1     frozen\n",
       "1              2      other\n",
       "2              3     bakery\n",
       "3              4    produce\n",
       "4              5    alcohol"
      ]
     },
     "execution_count": 10,
     "metadata": {},
     "output_type": "execute_result"
    }
   ],
   "source": [
    "departments_df.head()"
   ]
  },
  {
   "cell_type": "markdown",
   "metadata": {},
   "source": [
    "## products"
   ]
  },
  {
   "cell_type": "code",
   "execution_count": 11,
   "metadata": {},
   "outputs": [
    {
     "data": {
      "text/html": [
       "<div>\n",
       "<style>\n",
       "    .dataframe thead tr:only-child th {\n",
       "        text-align: right;\n",
       "    }\n",
       "\n",
       "    .dataframe thead th {\n",
       "        text-align: left;\n",
       "    }\n",
       "\n",
       "    .dataframe tbody tr th {\n",
       "        vertical-align: top;\n",
       "    }\n",
       "</style>\n",
       "<table border=\"1\" class=\"dataframe\">\n",
       "  <thead>\n",
       "    <tr style=\"text-align: right;\">\n",
       "      <th></th>\n",
       "      <th>product_id</th>\n",
       "      <th>product_name</th>\n",
       "      <th>aisle_id</th>\n",
       "      <th>department_id</th>\n",
       "    </tr>\n",
       "  </thead>\n",
       "  <tbody>\n",
       "    <tr>\n",
       "      <th>0</th>\n",
       "      <td>1</td>\n",
       "      <td>Chocolate Sandwich Cookies</td>\n",
       "      <td>61</td>\n",
       "      <td>19</td>\n",
       "    </tr>\n",
       "    <tr>\n",
       "      <th>1</th>\n",
       "      <td>2</td>\n",
       "      <td>All-Seasons Salt</td>\n",
       "      <td>104</td>\n",
       "      <td>13</td>\n",
       "    </tr>\n",
       "    <tr>\n",
       "      <th>2</th>\n",
       "      <td>3</td>\n",
       "      <td>Robust Golden Unsweetened Oolong Tea</td>\n",
       "      <td>94</td>\n",
       "      <td>7</td>\n",
       "    </tr>\n",
       "    <tr>\n",
       "      <th>3</th>\n",
       "      <td>4</td>\n",
       "      <td>Smart Ones Classic Favorites Mini Rigatoni Wit...</td>\n",
       "      <td>38</td>\n",
       "      <td>1</td>\n",
       "    </tr>\n",
       "    <tr>\n",
       "      <th>4</th>\n",
       "      <td>5</td>\n",
       "      <td>Green Chile Anytime Sauce</td>\n",
       "      <td>5</td>\n",
       "      <td>13</td>\n",
       "    </tr>\n",
       "  </tbody>\n",
       "</table>\n",
       "</div>"
      ],
      "text/plain": [
       "   product_id                                       product_name  aisle_id  \\\n",
       "0           1                         Chocolate Sandwich Cookies        61   \n",
       "1           2                                   All-Seasons Salt       104   \n",
       "2           3               Robust Golden Unsweetened Oolong Tea        94   \n",
       "3           4  Smart Ones Classic Favorites Mini Rigatoni Wit...        38   \n",
       "4           5                          Green Chile Anytime Sauce         5   \n",
       "\n",
       "   department_id  \n",
       "0             19  \n",
       "1             13  \n",
       "2              7  \n",
       "3              1  \n",
       "4             13  "
      ]
     },
     "execution_count": 11,
     "metadata": {},
     "output_type": "execute_result"
    }
   ],
   "source": [
    "products_df.head()"
   ]
  },
  {
   "cell_type": "code",
   "execution_count": 12,
   "metadata": {},
   "outputs": [
    {
     "data": {
      "text/plain": [
       "49688"
      ]
     },
     "execution_count": 12,
     "metadata": {},
     "output_type": "execute_result"
    }
   ],
   "source": [
    "len(products_df)"
   ]
  },
  {
   "cell_type": "code",
   "execution_count": 13,
   "metadata": {},
   "outputs": [
    {
     "data": {
      "text/plain": [
       "49688"
      ]
     },
     "execution_count": 13,
     "metadata": {},
     "output_type": "execute_result"
    }
   ],
   "source": [
    "max(products_df[\"product_id\"])"
   ]
  },
  {
   "cell_type": "markdown",
   "metadata": {},
   "source": [
    "## orders"
   ]
  },
  {
   "cell_type": "code",
   "execution_count": 14,
   "metadata": {},
   "outputs": [
    {
     "data": {
      "text/html": [
       "<div>\n",
       "<style>\n",
       "    .dataframe thead tr:only-child th {\n",
       "        text-align: right;\n",
       "    }\n",
       "\n",
       "    .dataframe thead th {\n",
       "        text-align: left;\n",
       "    }\n",
       "\n",
       "    .dataframe tbody tr th {\n",
       "        vertical-align: top;\n",
       "    }\n",
       "</style>\n",
       "<table border=\"1\" class=\"dataframe\">\n",
       "  <thead>\n",
       "    <tr style=\"text-align: right;\">\n",
       "      <th></th>\n",
       "      <th>order_id</th>\n",
       "      <th>user_id</th>\n",
       "      <th>eval_set</th>\n",
       "      <th>order_number</th>\n",
       "      <th>order_dow</th>\n",
       "      <th>order_hour_of_day</th>\n",
       "      <th>days_since_prior_order</th>\n",
       "    </tr>\n",
       "  </thead>\n",
       "  <tbody>\n",
       "    <tr>\n",
       "      <th>8489</th>\n",
       "      <td>1826055</td>\n",
       "      <td>525</td>\n",
       "      <td>prior</td>\n",
       "      <td>8</td>\n",
       "      <td>3</td>\n",
       "      <td>6</td>\n",
       "      <td>15.0</td>\n",
       "    </tr>\n",
       "    <tr>\n",
       "      <th>487304</th>\n",
       "      <td>1801845</td>\n",
       "      <td>29387</td>\n",
       "      <td>prior</td>\n",
       "      <td>23</td>\n",
       "      <td>1</td>\n",
       "      <td>10</td>\n",
       "      <td>7.0</td>\n",
       "    </tr>\n",
       "    <tr>\n",
       "      <th>1931291</th>\n",
       "      <td>818309</td>\n",
       "      <td>115988</td>\n",
       "      <td>prior</td>\n",
       "      <td>2</td>\n",
       "      <td>5</td>\n",
       "      <td>12</td>\n",
       "      <td>15.0</td>\n",
       "    </tr>\n",
       "    <tr>\n",
       "      <th>3257234</th>\n",
       "      <td>90351</td>\n",
       "      <td>196309</td>\n",
       "      <td>prior</td>\n",
       "      <td>40</td>\n",
       "      <td>1</td>\n",
       "      <td>16</td>\n",
       "      <td>9.0</td>\n",
       "    </tr>\n",
       "    <tr>\n",
       "      <th>2693017</th>\n",
       "      <td>2800131</td>\n",
       "      <td>162198</td>\n",
       "      <td>prior</td>\n",
       "      <td>15</td>\n",
       "      <td>4</td>\n",
       "      <td>10</td>\n",
       "      <td>7.0</td>\n",
       "    </tr>\n",
       "    <tr>\n",
       "      <th>1421147</th>\n",
       "      <td>1083507</td>\n",
       "      <td>85367</td>\n",
       "      <td>prior</td>\n",
       "      <td>6</td>\n",
       "      <td>5</td>\n",
       "      <td>11</td>\n",
       "      <td>7.0</td>\n",
       "    </tr>\n",
       "    <tr>\n",
       "      <th>2688875</th>\n",
       "      <td>2085203</td>\n",
       "      <td>161943</td>\n",
       "      <td>prior</td>\n",
       "      <td>25</td>\n",
       "      <td>0</td>\n",
       "      <td>16</td>\n",
       "      <td>7.0</td>\n",
       "    </tr>\n",
       "    <tr>\n",
       "      <th>1101021</th>\n",
       "      <td>3067385</td>\n",
       "      <td>66311</td>\n",
       "      <td>prior</td>\n",
       "      <td>20</td>\n",
       "      <td>0</td>\n",
       "      <td>21</td>\n",
       "      <td>10.0</td>\n",
       "    </tr>\n",
       "    <tr>\n",
       "      <th>2925364</th>\n",
       "      <td>1628370</td>\n",
       "      <td>176481</td>\n",
       "      <td>prior</td>\n",
       "      <td>23</td>\n",
       "      <td>3</td>\n",
       "      <td>11</td>\n",
       "      <td>5.0</td>\n",
       "    </tr>\n",
       "    <tr>\n",
       "      <th>2137055</th>\n",
       "      <td>242879</td>\n",
       "      <td>128533</td>\n",
       "      <td>prior</td>\n",
       "      <td>29</td>\n",
       "      <td>3</td>\n",
       "      <td>13</td>\n",
       "      <td>2.0</td>\n",
       "    </tr>\n",
       "  </tbody>\n",
       "</table>\n",
       "</div>"
      ],
      "text/plain": [
       "         order_id  user_id eval_set  order_number  order_dow  \\\n",
       "8489      1826055      525    prior             8          3   \n",
       "487304    1801845    29387    prior            23          1   \n",
       "1931291    818309   115988    prior             2          5   \n",
       "3257234     90351   196309    prior            40          1   \n",
       "2693017   2800131   162198    prior            15          4   \n",
       "1421147   1083507    85367    prior             6          5   \n",
       "2688875   2085203   161943    prior            25          0   \n",
       "1101021   3067385    66311    prior            20          0   \n",
       "2925364   1628370   176481    prior            23          3   \n",
       "2137055    242879   128533    prior            29          3   \n",
       "\n",
       "         order_hour_of_day  days_since_prior_order  \n",
       "8489                     6                    15.0  \n",
       "487304                  10                     7.0  \n",
       "1931291                 12                    15.0  \n",
       "3257234                 16                     9.0  \n",
       "2693017                 10                     7.0  \n",
       "1421147                 11                     7.0  \n",
       "2688875                 16                     7.0  \n",
       "1101021                 21                    10.0  \n",
       "2925364                 11                     5.0  \n",
       "2137055                 13                     2.0  "
      ]
     },
     "execution_count": 14,
     "metadata": {},
     "output_type": "execute_result"
    }
   ],
   "source": [
    "orders_df.sample(10)"
   ]
  },
  {
   "cell_type": "code",
   "execution_count": 15,
   "metadata": {},
   "outputs": [
    {
     "data": {
      "text/html": [
       "<div>\n",
       "<style>\n",
       "    .dataframe thead tr:only-child th {\n",
       "        text-align: right;\n",
       "    }\n",
       "\n",
       "    .dataframe thead th {\n",
       "        text-align: left;\n",
       "    }\n",
       "\n",
       "    .dataframe tbody tr th {\n",
       "        vertical-align: top;\n",
       "    }\n",
       "</style>\n",
       "<table border=\"1\" class=\"dataframe\">\n",
       "  <thead>\n",
       "    <tr style=\"text-align: right;\">\n",
       "      <th></th>\n",
       "      <th>order_id</th>\n",
       "      <th>user_id</th>\n",
       "      <th>order_number</th>\n",
       "      <th>order_dow</th>\n",
       "      <th>order_hour_of_day</th>\n",
       "      <th>days_since_prior_order</th>\n",
       "    </tr>\n",
       "    <tr>\n",
       "      <th>eval_set</th>\n",
       "      <th></th>\n",
       "      <th></th>\n",
       "      <th></th>\n",
       "      <th></th>\n",
       "      <th></th>\n",
       "      <th></th>\n",
       "    </tr>\n",
       "  </thead>\n",
       "  <tbody>\n",
       "    <tr>\n",
       "      <th>prior</th>\n",
       "      <td>3214874</td>\n",
       "      <td>3214874</td>\n",
       "      <td>3214874</td>\n",
       "      <td>3214874</td>\n",
       "      <td>3214874</td>\n",
       "      <td>3008665</td>\n",
       "    </tr>\n",
       "    <tr>\n",
       "      <th>test</th>\n",
       "      <td>75000</td>\n",
       "      <td>75000</td>\n",
       "      <td>75000</td>\n",
       "      <td>75000</td>\n",
       "      <td>75000</td>\n",
       "      <td>75000</td>\n",
       "    </tr>\n",
       "    <tr>\n",
       "      <th>train</th>\n",
       "      <td>131209</td>\n",
       "      <td>131209</td>\n",
       "      <td>131209</td>\n",
       "      <td>131209</td>\n",
       "      <td>131209</td>\n",
       "      <td>131209</td>\n",
       "    </tr>\n",
       "  </tbody>\n",
       "</table>\n",
       "</div>"
      ],
      "text/plain": [
       "          order_id  user_id  order_number  order_dow  order_hour_of_day  \\\n",
       "eval_set                                                                  \n",
       "prior      3214874  3214874       3214874    3214874            3214874   \n",
       "test         75000    75000         75000      75000              75000   \n",
       "train       131209   131209        131209     131209             131209   \n",
       "\n",
       "          days_since_prior_order  \n",
       "eval_set                          \n",
       "prior                    3008665  \n",
       "test                       75000  \n",
       "train                     131209  "
      ]
     },
     "execution_count": 15,
     "metadata": {},
     "output_type": "execute_result"
    }
   ],
   "source": [
    "orders_df.groupby('eval_set').count()"
   ]
  },
  {
   "cell_type": "code",
   "execution_count": 16,
   "metadata": {},
   "outputs": [
    {
     "data": {
      "text/plain": [
       "75000"
      ]
     },
     "execution_count": 16,
     "metadata": {},
     "output_type": "execute_result"
    }
   ],
   "source": [
    "len(orders_df[orders_df['eval_set']=='test']['order_id'].unique())"
   ]
  },
  {
   "cell_type": "code",
   "execution_count": 17,
   "metadata": {},
   "outputs": [
    {
     "data": {
      "text/html": [
       "<div>\n",
       "<style>\n",
       "    .dataframe thead tr:only-child th {\n",
       "        text-align: right;\n",
       "    }\n",
       "\n",
       "    .dataframe thead th {\n",
       "        text-align: left;\n",
       "    }\n",
       "\n",
       "    .dataframe tbody tr th {\n",
       "        vertical-align: top;\n",
       "    }\n",
       "</style>\n",
       "<table border=\"1\" class=\"dataframe\">\n",
       "  <thead>\n",
       "    <tr style=\"text-align: right;\">\n",
       "      <th></th>\n",
       "      <th>order_id</th>\n",
       "      <th>product_id</th>\n",
       "      <th>add_to_cart_order</th>\n",
       "      <th>reordered</th>\n",
       "    </tr>\n",
       "  </thead>\n",
       "  <tbody>\n",
       "    <tr>\n",
       "      <th>1160653</th>\n",
       "      <td>2868883</td>\n",
       "      <td>34458</td>\n",
       "      <td>6</td>\n",
       "      <td>1</td>\n",
       "    </tr>\n",
       "    <tr>\n",
       "      <th>1036456</th>\n",
       "      <td>2562175</td>\n",
       "      <td>39275</td>\n",
       "      <td>11</td>\n",
       "      <td>0</td>\n",
       "    </tr>\n",
       "    <tr>\n",
       "      <th>1043921</th>\n",
       "      <td>2582540</td>\n",
       "      <td>23054</td>\n",
       "      <td>11</td>\n",
       "      <td>1</td>\n",
       "    </tr>\n",
       "    <tr>\n",
       "      <th>769170</th>\n",
       "      <td>1893026</td>\n",
       "      <td>34637</td>\n",
       "      <td>2</td>\n",
       "      <td>0</td>\n",
       "    </tr>\n",
       "    <tr>\n",
       "      <th>822197</th>\n",
       "      <td>2028060</td>\n",
       "      <td>14142</td>\n",
       "      <td>6</td>\n",
       "      <td>1</td>\n",
       "    </tr>\n",
       "    <tr>\n",
       "      <th>987819</th>\n",
       "      <td>2439033</td>\n",
       "      <td>7058</td>\n",
       "      <td>8</td>\n",
       "      <td>0</td>\n",
       "    </tr>\n",
       "    <tr>\n",
       "      <th>257133</th>\n",
       "      <td>627271</td>\n",
       "      <td>32553</td>\n",
       "      <td>4</td>\n",
       "      <td>1</td>\n",
       "    </tr>\n",
       "    <tr>\n",
       "      <th>483436</th>\n",
       "      <td>1184974</td>\n",
       "      <td>22124</td>\n",
       "      <td>2</td>\n",
       "      <td>1</td>\n",
       "    </tr>\n",
       "    <tr>\n",
       "      <th>851784</th>\n",
       "      <td>2103003</td>\n",
       "      <td>28204</td>\n",
       "      <td>7</td>\n",
       "      <td>1</td>\n",
       "    </tr>\n",
       "    <tr>\n",
       "      <th>71499</th>\n",
       "      <td>176435</td>\n",
       "      <td>27275</td>\n",
       "      <td>9</td>\n",
       "      <td>0</td>\n",
       "    </tr>\n",
       "  </tbody>\n",
       "</table>\n",
       "</div>"
      ],
      "text/plain": [
       "         order_id  product_id  add_to_cart_order  reordered\n",
       "1160653   2868883       34458                  6          1\n",
       "1036456   2562175       39275                 11          0\n",
       "1043921   2582540       23054                 11          1\n",
       "769170    1893026       34637                  2          0\n",
       "822197    2028060       14142                  6          1\n",
       "987819    2439033        7058                  8          0\n",
       "257133     627271       32553                  4          1\n",
       "483436    1184974       22124                  2          1\n",
       "851784    2103003       28204                  7          1\n",
       "71499      176435       27275                  9          0"
      ]
     },
     "execution_count": 17,
     "metadata": {},
     "output_type": "execute_result"
    }
   ],
   "source": [
    "last_items_ordered_df.sample(10)"
   ]
  },
  {
   "cell_type": "markdown",
   "metadata": {},
   "source": [
    "### users_df, derived"
   ]
  },
  {
   "cell_type": "code",
   "execution_count": 18,
   "metadata": {
    "collapsed": true
   },
   "outputs": [],
   "source": [
    "users_df = orders_df[[\"user_id\"]]"
   ]
  },
  {
   "cell_type": "code",
   "execution_count": 19,
   "metadata": {
    "collapsed": true
   },
   "outputs": [],
   "source": [
    "users_df = users_df.drop_duplicates().reset_index().drop('index',axis=1)"
   ]
  },
  {
   "cell_type": "code",
   "execution_count": 20,
   "metadata": {},
   "outputs": [
    {
     "data": {
      "text/html": [
       "<div>\n",
       "<style>\n",
       "    .dataframe thead tr:only-child th {\n",
       "        text-align: right;\n",
       "    }\n",
       "\n",
       "    .dataframe thead th {\n",
       "        text-align: left;\n",
       "    }\n",
       "\n",
       "    .dataframe tbody tr th {\n",
       "        vertical-align: top;\n",
       "    }\n",
       "</style>\n",
       "<table border=\"1\" class=\"dataframe\">\n",
       "  <thead>\n",
       "    <tr style=\"text-align: right;\">\n",
       "      <th></th>\n",
       "      <th>user_id</th>\n",
       "    </tr>\n",
       "  </thead>\n",
       "  <tbody>\n",
       "    <tr>\n",
       "      <th>0</th>\n",
       "      <td>1</td>\n",
       "    </tr>\n",
       "    <tr>\n",
       "      <th>1</th>\n",
       "      <td>2</td>\n",
       "    </tr>\n",
       "    <tr>\n",
       "      <th>2</th>\n",
       "      <td>3</td>\n",
       "    </tr>\n",
       "    <tr>\n",
       "      <th>3</th>\n",
       "      <td>4</td>\n",
       "    </tr>\n",
       "    <tr>\n",
       "      <th>4</th>\n",
       "      <td>5</td>\n",
       "    </tr>\n",
       "  </tbody>\n",
       "</table>\n",
       "</div>"
      ],
      "text/plain": [
       "   user_id\n",
       "0        1\n",
       "1        2\n",
       "2        3\n",
       "3        4\n",
       "4        5"
      ]
     },
     "execution_count": 20,
     "metadata": {},
     "output_type": "execute_result"
    }
   ],
   "source": [
    "users_df.head()"
   ]
  },
  {
   "cell_type": "markdown",
   "metadata": {},
   "source": [
    "## denormalizing"
   ]
  },
  {
   "cell_type": "code",
   "execution_count": 21,
   "metadata": {
    "collapsed": true
   },
   "outputs": [],
   "source": [
    "last_items_ordered_df = pd.merge(last_items_ordered_df,orders_df,on='order_id',how='left')"
   ]
  },
  {
   "cell_type": "code",
   "execution_count": 22,
   "metadata": {
    "collapsed": true
   },
   "outputs": [],
   "source": [
    "prior_items_ordered_df = pd.merge(prior_items_ordered_df,orders_df,on='order_id',how='left').drop('order_id',axis=1)"
   ]
  },
  {
   "cell_type": "code",
   "execution_count": 23,
   "metadata": {
    "collapsed": true
   },
   "outputs": [],
   "source": [
    "unique_user_ids = set(orders_df.groupby('user_id').groups.keys())"
   ]
  },
  {
   "cell_type": "code",
   "execution_count": 24,
   "metadata": {},
   "outputs": [
    {
     "data": {
      "text/plain": [
       "206209"
      ]
     },
     "execution_count": 24,
     "metadata": {},
     "output_type": "execute_result"
    }
   ],
   "source": [
    "len(unique_user_ids)"
   ]
  },
  {
   "cell_type": "code",
   "execution_count": 25,
   "metadata": {
    "collapsed": true
   },
   "outputs": [],
   "source": [
    "unique_product_ids = set(products_df['product_id'].values)"
   ]
  },
  {
   "cell_type": "code",
   "execution_count": 26,
   "metadata": {},
   "outputs": [
    {
     "data": {
      "text/plain": [
       "49688"
      ]
     },
     "execution_count": 26,
     "metadata": {},
     "output_type": "execute_result"
    }
   ],
   "source": [
    "len(unique_product_ids)"
   ]
  },
  {
   "cell_type": "markdown",
   "metadata": {},
   "source": [
    "## what is the static reorder_factor for each user?\n",
    "\n",
    "I.e. what percentage of products is reordered?\n",
    "\n",
    "> since we need data from both the prior as from the last dataframes, we need to calculate sum and counts separately, because mean of means would not be correctly weighted.\n"
   ]
  },
  {
   "cell_type": "code",
   "execution_count": 27,
   "metadata": {
    "collapsed": true
   },
   "outputs": [],
   "source": [
    "users_df['reorder_cl'] = last_items_ordered_df.groupby('user_id')['reordered'].count()\n",
    "users_df['reorder_sl'] = last_items_ordered_df.groupby('user_id')['reordered'].sum()\n",
    "\n",
    "users_df['reorder_cp'] = prior_items_ordered_df.groupby('user_id')['reordered'].count()\n",
    "users_df['reorder_sp'] = prior_items_ordered_df.groupby('user_id')['reordered'].sum()\n",
    "\n",
    "\n",
    "users_df['user_reorder_factor'] = (users_df['reorder_sl'] + users_df['reorder_sp']) / (users_df['reorder_cl'] + users_df['reorder_cp'])\n",
    "\n",
    "users_df.drop(['reorder_cl','reorder_sl','reorder_cp','reorder_sp'],axis=1,inplace=True)"
   ]
  },
  {
   "cell_type": "code",
   "execution_count": 28,
   "metadata": {},
   "outputs": [
    {
     "data": {
      "text/html": [
       "<div>\n",
       "<style>\n",
       "    .dataframe thead tr:only-child th {\n",
       "        text-align: right;\n",
       "    }\n",
       "\n",
       "    .dataframe thead th {\n",
       "        text-align: left;\n",
       "    }\n",
       "\n",
       "    .dataframe tbody tr th {\n",
       "        vertical-align: top;\n",
       "    }\n",
       "</style>\n",
       "<table border=\"1\" class=\"dataframe\">\n",
       "  <thead>\n",
       "    <tr style=\"text-align: right;\">\n",
       "      <th></th>\n",
       "      <th>user_id</th>\n",
       "      <th>user_reorder_factor</th>\n",
       "    </tr>\n",
       "  </thead>\n",
       "  <tbody>\n",
       "    <tr>\n",
       "      <th>0</th>\n",
       "      <td>1</td>\n",
       "      <td>NaN</td>\n",
       "    </tr>\n",
       "    <tr>\n",
       "      <th>1</th>\n",
       "      <td>2</td>\n",
       "      <td>0.728571</td>\n",
       "    </tr>\n",
       "    <tr>\n",
       "      <th>2</th>\n",
       "      <td>3</td>\n",
       "      <td>0.464602</td>\n",
       "    </tr>\n",
       "    <tr>\n",
       "      <th>3</th>\n",
       "      <td>4</td>\n",
       "      <td>NaN</td>\n",
       "    </tr>\n",
       "    <tr>\n",
       "      <th>4</th>\n",
       "      <td>5</td>\n",
       "      <td>NaN</td>\n",
       "    </tr>\n",
       "  </tbody>\n",
       "</table>\n",
       "</div>"
      ],
      "text/plain": [
       "   user_id  user_reorder_factor\n",
       "0        1                  NaN\n",
       "1        2             0.728571\n",
       "2        3             0.464602\n",
       "3        4                  NaN\n",
       "4        5                  NaN"
      ]
     },
     "execution_count": 28,
     "metadata": {},
     "output_type": "execute_result"
    }
   ],
   "source": [
    "users_df.head()"
   ]
  },
  {
   "cell_type": "code",
   "execution_count": 29,
   "metadata": {
    "collapsed": true
   },
   "outputs": [],
   "source": [
    "to_save = users_df[[\"user_id\",\"user_reorder_factor\"]]\n",
    "to_save.set_index(\"user_id\",inplace=True)\n",
    "pickle.dump(to_save.to_dict()['user_reorder_factor'],open(PICKLE_ROOT+\"static_user_reorder_factors.p\",\"wb\"))"
   ]
  },
  {
   "cell_type": "markdown",
   "metadata": {},
   "source": [
    "## now do the same for each product"
   ]
  },
  {
   "cell_type": "code",
   "execution_count": 30,
   "metadata": {
    "collapsed": true
   },
   "outputs": [],
   "source": [
    "# last orders\n",
    "products_df['reorder_cl'] = last_items_ordered_df.groupby('product_id')['reordered'].count()\n",
    "products_df['reorder_sl'] = last_items_ordered_df.groupby('product_id')['reordered'].sum()\n",
    "\n",
    "# prior orders\n",
    "products_df['reorder_cp'] = prior_items_ordered_df.groupby('product_id')['reordered'].count()\n",
    "products_df['reorder_sp'] = prior_items_ordered_df.groupby('product_id')['reordered'].sum()\n",
    "\n",
    "products_df['product_reorder_factor'] = (products_df['reorder_sl'] + products_df['reorder_sp']) / (products_df['reorder_cl'] + products_df['reorder_cp'])\n",
    "\n",
    "products_df.drop(['reorder_cl','reorder_sl','reorder_cp','reorder_sp'],axis=1,inplace=True)"
   ]
  },
  {
   "cell_type": "code",
   "execution_count": 63,
   "metadata": {
    "collapsed": true
   },
   "outputs": [],
   "source": [
    "product_factors = products_df[[\"product_id\",\"product_reorder_factor\"]]\n",
    "product_factors.set_index(\"product_id\",inplace=True)\n",
    "pickle.dump(to_save.to_dict()['product_reorder_factor'],open(PICKLE_ROOT+\"static_product_reorder_factors.p\",\"wb\"))"
   ]
  },
  {
   "cell_type": "code",
   "execution_count": 84,
   "metadata": {},
   "outputs": [
    {
     "data": {
      "text/html": [
       "<div>\n",
       "<style>\n",
       "    .dataframe thead tr:only-child th {\n",
       "        text-align: right;\n",
       "    }\n",
       "\n",
       "    .dataframe thead th {\n",
       "        text-align: left;\n",
       "    }\n",
       "\n",
       "    .dataframe tbody tr th {\n",
       "        vertical-align: top;\n",
       "    }\n",
       "</style>\n",
       "<table border=\"1\" class=\"dataframe\">\n",
       "  <thead>\n",
       "    <tr style=\"text-align: right;\">\n",
       "      <th></th>\n",
       "      <th>product_reorder_factor</th>\n",
       "    </tr>\n",
       "    <tr>\n",
       "      <th>product_id</th>\n",
       "      <th></th>\n",
       "    </tr>\n",
       "  </thead>\n",
       "  <tbody>\n",
       "    <tr>\n",
       "      <th>1</th>\n",
       "      <td>NaN</td>\n",
       "    </tr>\n",
       "    <tr>\n",
       "      <th>2</th>\n",
       "      <td>0.614627</td>\n",
       "    </tr>\n",
       "    <tr>\n",
       "      <th>3</th>\n",
       "      <td>0.138298</td>\n",
       "    </tr>\n",
       "    <tr>\n",
       "      <th>4</th>\n",
       "      <td>0.738516</td>\n",
       "    </tr>\n",
       "    <tr>\n",
       "      <th>5</th>\n",
       "      <td>0.458689</td>\n",
       "    </tr>\n",
       "  </tbody>\n",
       "</table>\n",
       "</div>"
      ],
      "text/plain": [
       "            product_reorder_factor\n",
       "product_id                        \n",
       "1                              NaN\n",
       "2                         0.614627\n",
       "3                         0.138298\n",
       "4                         0.738516\n",
       "5                         0.458689"
      ]
     },
     "execution_count": 84,
     "metadata": {},
     "output_type": "execute_result"
    }
   ],
   "source": [
    "product_factors.head()"
   ]
  },
  {
   "cell_type": "markdown",
   "metadata": {},
   "source": [
    "### what are all products ever ordered by each user in the test set?\n",
    "\n",
    ">  must use both prior and last orders\n"
   ]
  },
  {
   "cell_type": "code",
   "execution_count": 92,
   "metadata": {
    "collapsed": true
   },
   "outputs": [],
   "source": [
    "users_in_test_set = orders_df[orders_df['eval_set']=='test'][[\"user_id\",\"order_id\"]]"
   ]
  },
  {
   "cell_type": "code",
   "execution_count": 96,
   "metadata": {},
   "outputs": [
    {
     "data": {
      "text/html": [
       "<div>\n",
       "<style>\n",
       "    .dataframe thead tr:only-child th {\n",
       "        text-align: right;\n",
       "    }\n",
       "\n",
       "    .dataframe thead th {\n",
       "        text-align: left;\n",
       "    }\n",
       "\n",
       "    .dataframe tbody tr th {\n",
       "        vertical-align: top;\n",
       "    }\n",
       "</style>\n",
       "<table border=\"1\" class=\"dataframe\">\n",
       "  <thead>\n",
       "    <tr style=\"text-align: right;\">\n",
       "      <th></th>\n",
       "      <th>user_id</th>\n",
       "      <th>order_id</th>\n",
       "    </tr>\n",
       "  </thead>\n",
       "  <tbody>\n",
       "    <tr>\n",
       "      <th>38</th>\n",
       "      <td>3</td>\n",
       "      <td>2774568</td>\n",
       "    </tr>\n",
       "    <tr>\n",
       "      <th>44</th>\n",
       "      <td>4</td>\n",
       "      <td>329954</td>\n",
       "    </tr>\n",
       "    <tr>\n",
       "      <th>53</th>\n",
       "      <td>6</td>\n",
       "      <td>1528013</td>\n",
       "    </tr>\n",
       "    <tr>\n",
       "      <th>96</th>\n",
       "      <td>11</td>\n",
       "      <td>1376945</td>\n",
       "    </tr>\n",
       "    <tr>\n",
       "      <th>102</th>\n",
       "      <td>12</td>\n",
       "      <td>1356845</td>\n",
       "    </tr>\n",
       "    <tr>\n",
       "      <th>152</th>\n",
       "      <td>15</td>\n",
       "      <td>2161313</td>\n",
       "    </tr>\n",
       "    <tr>\n",
       "      <th>159</th>\n",
       "      <td>16</td>\n",
       "      <td>1416320</td>\n",
       "    </tr>\n",
       "    <tr>\n",
       "      <th>217</th>\n",
       "      <td>19</td>\n",
       "      <td>1735923</td>\n",
       "    </tr>\n",
       "    <tr>\n",
       "      <th>222</th>\n",
       "      <td>20</td>\n",
       "      <td>1980631</td>\n",
       "    </tr>\n",
       "    <tr>\n",
       "      <th>272</th>\n",
       "      <td>22</td>\n",
       "      <td>139655</td>\n",
       "    </tr>\n",
       "    <tr>\n",
       "      <th>300</th>\n",
       "      <td>25</td>\n",
       "      <td>1411408</td>\n",
       "    </tr>\n",
       "    <tr>\n",
       "      <th>313</th>\n",
       "      <td>26</td>\n",
       "      <td>2940603</td>\n",
       "    </tr>\n",
       "    <tr>\n",
       "      <th>420</th>\n",
       "      <td>28</td>\n",
       "      <td>1192143</td>\n",
       "    </tr>\n",
       "    <tr>\n",
       "      <th>469</th>\n",
       "      <td>31</td>\n",
       "      <td>280888</td>\n",
       "    </tr>\n",
       "    <tr>\n",
       "      <th>475</th>\n",
       "      <td>32</td>\n",
       "      <td>3202221</td>\n",
       "    </tr>\n",
       "    <tr>\n",
       "      <th>479</th>\n",
       "      <td>33</td>\n",
       "      <td>3222866</td>\n",
       "    </tr>\n",
       "    <tr>\n",
       "      <th>495</th>\n",
       "      <td>35</td>\n",
       "      <td>707453</td>\n",
       "    </tr>\n",
       "    <tr>\n",
       "      <th>533</th>\n",
       "      <td>36</td>\n",
       "      <td>1320132</td>\n",
       "    </tr>\n",
       "    <tr>\n",
       "      <th>578</th>\n",
       "      <td>39</td>\n",
       "      <td>882556</td>\n",
       "    </tr>\n",
       "    <tr>\n",
       "      <th>588</th>\n",
       "      <td>40</td>\n",
       "      <td>2431024</td>\n",
       "    </tr>\n",
       "    <tr>\n",
       "      <th>632</th>\n",
       "      <td>45</td>\n",
       "      <td>2827745</td>\n",
       "    </tr>\n",
       "    <tr>\n",
       "      <th>750</th>\n",
       "      <td>51</td>\n",
       "      <td>2174416</td>\n",
       "    </tr>\n",
       "    <tr>\n",
       "      <th>860</th>\n",
       "      <td>54</td>\n",
       "      <td>1325316</td>\n",
       "    </tr>\n",
       "    <tr>\n",
       "      <th>896</th>\n",
       "      <td>57</td>\n",
       "      <td>320326</td>\n",
       "    </tr>\n",
       "    <tr>\n",
       "      <th>912</th>\n",
       "      <td>58</td>\n",
       "      <td>2128599</td>\n",
       "    </tr>\n",
       "    <tr>\n",
       "      <th>932</th>\n",
       "      <td>60</td>\n",
       "      <td>1099519</td>\n",
       "    </tr>\n",
       "    <tr>\n",
       "      <th>937</th>\n",
       "      <td>61</td>\n",
       "      <td>144494</td>\n",
       "    </tr>\n",
       "    <tr>\n",
       "      <th>1053</th>\n",
       "      <td>68</td>\n",
       "      <td>3024191</td>\n",
       "    </tr>\n",
       "    <tr>\n",
       "      <th>1059</th>\n",
       "      <td>69</td>\n",
       "      <td>2817181</td>\n",
       "    </tr>\n",
       "    <tr>\n",
       "      <th>1118</th>\n",
       "      <td>73</td>\n",
       "      <td>2883656</td>\n",
       "    </tr>\n",
       "    <tr>\n",
       "      <th>...</th>\n",
       "      <td>...</td>\n",
       "      <td>...</td>\n",
       "    </tr>\n",
       "    <tr>\n",
       "      <th>3419718</th>\n",
       "      <td>206122</td>\n",
       "      <td>1968103</td>\n",
       "    </tr>\n",
       "    <tr>\n",
       "      <th>3419860</th>\n",
       "      <td>206127</td>\n",
       "      <td>3094655</td>\n",
       "    </tr>\n",
       "    <tr>\n",
       "      <th>3419911</th>\n",
       "      <td>206131</td>\n",
       "      <td>2964171</td>\n",
       "    </tr>\n",
       "    <tr>\n",
       "      <th>3419930</th>\n",
       "      <td>206135</td>\n",
       "      <td>1522572</td>\n",
       "    </tr>\n",
       "    <tr>\n",
       "      <th>3419961</th>\n",
       "      <td>206138</td>\n",
       "      <td>544857</td>\n",
       "    </tr>\n",
       "    <tr>\n",
       "      <th>3419996</th>\n",
       "      <td>206142</td>\n",
       "      <td>1421496</td>\n",
       "    </tr>\n",
       "    <tr>\n",
       "      <th>3420007</th>\n",
       "      <td>206143</td>\n",
       "      <td>765758</td>\n",
       "    </tr>\n",
       "    <tr>\n",
       "      <th>3420034</th>\n",
       "      <td>206147</td>\n",
       "      <td>1772796</td>\n",
       "    </tr>\n",
       "    <tr>\n",
       "      <th>3420152</th>\n",
       "      <td>206152</td>\n",
       "      <td>3177219</td>\n",
       "    </tr>\n",
       "    <tr>\n",
       "      <th>3420293</th>\n",
       "      <td>206160</td>\n",
       "      <td>2380361</td>\n",
       "    </tr>\n",
       "    <tr>\n",
       "      <th>3420309</th>\n",
       "      <td>206161</td>\n",
       "      <td>928262</td>\n",
       "    </tr>\n",
       "    <tr>\n",
       "      <th>3420334</th>\n",
       "      <td>206163</td>\n",
       "      <td>1722401</td>\n",
       "    </tr>\n",
       "    <tr>\n",
       "      <th>3420388</th>\n",
       "      <td>206166</td>\n",
       "      <td>1945444</td>\n",
       "    </tr>\n",
       "    <tr>\n",
       "      <th>3420406</th>\n",
       "      <td>206168</td>\n",
       "      <td>2000023</td>\n",
       "    </tr>\n",
       "    <tr>\n",
       "      <th>3420440</th>\n",
       "      <td>206173</td>\n",
       "      <td>3151043</td>\n",
       "    </tr>\n",
       "    <tr>\n",
       "      <th>3420547</th>\n",
       "      <td>206179</td>\n",
       "      <td>2900626</td>\n",
       "    </tr>\n",
       "    <tr>\n",
       "      <th>3420566</th>\n",
       "      <td>206180</td>\n",
       "      <td>2633505</td>\n",
       "    </tr>\n",
       "    <tr>\n",
       "      <th>3420592</th>\n",
       "      <td>206182</td>\n",
       "      <td>1836967</td>\n",
       "    </tr>\n",
       "    <tr>\n",
       "      <th>3420607</th>\n",
       "      <td>206183</td>\n",
       "      <td>2799087</td>\n",
       "    </tr>\n",
       "    <tr>\n",
       "      <th>3420662</th>\n",
       "      <td>206187</td>\n",
       "      <td>2762353</td>\n",
       "    </tr>\n",
       "    <tr>\n",
       "      <th>3420677</th>\n",
       "      <td>206189</td>\n",
       "      <td>959487</td>\n",
       "    </tr>\n",
       "    <tr>\n",
       "      <th>3420707</th>\n",
       "      <td>206192</td>\n",
       "      <td>701105</td>\n",
       "    </tr>\n",
       "    <tr>\n",
       "      <th>3420761</th>\n",
       "      <td>206194</td>\n",
       "      <td>64567</td>\n",
       "    </tr>\n",
       "    <tr>\n",
       "      <th>3420810</th>\n",
       "      <td>206197</td>\n",
       "      <td>1564541</td>\n",
       "    </tr>\n",
       "    <tr>\n",
       "      <th>3420895</th>\n",
       "      <td>206201</td>\n",
       "      <td>309211</td>\n",
       "    </tr>\n",
       "    <tr>\n",
       "      <th>3420918</th>\n",
       "      <td>206202</td>\n",
       "      <td>2728930</td>\n",
       "    </tr>\n",
       "    <tr>\n",
       "      <th>3420929</th>\n",
       "      <td>206204</td>\n",
       "      <td>350108</td>\n",
       "    </tr>\n",
       "    <tr>\n",
       "      <th>3421001</th>\n",
       "      <td>206206</td>\n",
       "      <td>1043943</td>\n",
       "    </tr>\n",
       "    <tr>\n",
       "      <th>3421018</th>\n",
       "      <td>206207</td>\n",
       "      <td>2821651</td>\n",
       "    </tr>\n",
       "    <tr>\n",
       "      <th>3421068</th>\n",
       "      <td>206208</td>\n",
       "      <td>803273</td>\n",
       "    </tr>\n",
       "  </tbody>\n",
       "</table>\n",
       "<p>75000 rows × 2 columns</p>\n",
       "</div>"
      ],
      "text/plain": [
       "         user_id  order_id\n",
       "38             3   2774568\n",
       "44             4    329954\n",
       "53             6   1528013\n",
       "96            11   1376945\n",
       "102           12   1356845\n",
       "152           15   2161313\n",
       "159           16   1416320\n",
       "217           19   1735923\n",
       "222           20   1980631\n",
       "272           22    139655\n",
       "300           25   1411408\n",
       "313           26   2940603\n",
       "420           28   1192143\n",
       "469           31    280888\n",
       "475           32   3202221\n",
       "479           33   3222866\n",
       "495           35    707453\n",
       "533           36   1320132\n",
       "578           39    882556\n",
       "588           40   2431024\n",
       "632           45   2827745\n",
       "750           51   2174416\n",
       "860           54   1325316\n",
       "896           57    320326\n",
       "912           58   2128599\n",
       "932           60   1099519\n",
       "937           61    144494\n",
       "1053          68   3024191\n",
       "1059          69   2817181\n",
       "1118          73   2883656\n",
       "...          ...       ...\n",
       "3419718   206122   1968103\n",
       "3419860   206127   3094655\n",
       "3419911   206131   2964171\n",
       "3419930   206135   1522572\n",
       "3419961   206138    544857\n",
       "3419996   206142   1421496\n",
       "3420007   206143    765758\n",
       "3420034   206147   1772796\n",
       "3420152   206152   3177219\n",
       "3420293   206160   2380361\n",
       "3420309   206161    928262\n",
       "3420334   206163   1722401\n",
       "3420388   206166   1945444\n",
       "3420406   206168   2000023\n",
       "3420440   206173   3151043\n",
       "3420547   206179   2900626\n",
       "3420566   206180   2633505\n",
       "3420592   206182   1836967\n",
       "3420607   206183   2799087\n",
       "3420662   206187   2762353\n",
       "3420677   206189    959487\n",
       "3420707   206192    701105\n",
       "3420761   206194     64567\n",
       "3420810   206197   1564541\n",
       "3420895   206201    309211\n",
       "3420918   206202   2728930\n",
       "3420929   206204    350108\n",
       "3421001   206206   1043943\n",
       "3421018   206207   2821651\n",
       "3421068   206208    803273\n",
       "\n",
       "[75000 rows x 2 columns]"
      ]
     },
     "execution_count": 96,
     "metadata": {},
     "output_type": "execute_result"
    }
   ],
   "source": [
    "users_in_test_set"
   ]
  },
  {
   "cell_type": "code",
   "execution_count": 34,
   "metadata": {
    "collapsed": true
   },
   "outputs": [],
   "source": [
    "products_prior = prior_items_ordered_df[[\"product_id\",\"user_id\"]]\n",
    "products_last = last_items_ordered_df[[\"product_id\",\"user_id\"]]\n",
    "\n",
    "all_products_and_users = pd.concat([products_prior,products_last])"
   ]
  },
  {
   "cell_type": "code",
   "execution_count": 35,
   "metadata": {
    "collapsed": true
   },
   "outputs": [],
   "source": [
    "products_and_users_in_test_set = pd.merge(users_in_test_set,all_products_and_users,on='user_id',how='left')"
   ]
  },
  {
   "cell_type": "code",
   "execution_count": 36,
   "metadata": {},
   "outputs": [
    {
     "data": {
      "text/html": [
       "<div>\n",
       "<style>\n",
       "    .dataframe thead tr:only-child th {\n",
       "        text-align: right;\n",
       "    }\n",
       "\n",
       "    .dataframe thead th {\n",
       "        text-align: left;\n",
       "    }\n",
       "\n",
       "    .dataframe tbody tr th {\n",
       "        vertical-align: top;\n",
       "    }\n",
       "</style>\n",
       "<table border=\"1\" class=\"dataframe\">\n",
       "  <thead>\n",
       "    <tr style=\"text-align: right;\">\n",
       "      <th></th>\n",
       "      <th>user_id</th>\n",
       "      <th>product_id</th>\n",
       "    </tr>\n",
       "  </thead>\n",
       "  <tbody>\n",
       "    <tr>\n",
       "      <th>0</th>\n",
       "      <td>3</td>\n",
       "      <td>38596</td>\n",
       "    </tr>\n",
       "    <tr>\n",
       "      <th>1</th>\n",
       "      <td>3</td>\n",
       "      <td>21903</td>\n",
       "    </tr>\n",
       "    <tr>\n",
       "      <th>2</th>\n",
       "      <td>3</td>\n",
       "      <td>248</td>\n",
       "    </tr>\n",
       "    <tr>\n",
       "      <th>3</th>\n",
       "      <td>3</td>\n",
       "      <td>40604</td>\n",
       "    </tr>\n",
       "    <tr>\n",
       "      <th>4</th>\n",
       "      <td>3</td>\n",
       "      <td>8021</td>\n",
       "    </tr>\n",
       "  </tbody>\n",
       "</table>\n",
       "</div>"
      ],
      "text/plain": [
       "   user_id  product_id\n",
       "0        3       38596\n",
       "1        3       21903\n",
       "2        3         248\n",
       "3        3       40604\n",
       "4        3        8021"
      ]
     },
     "execution_count": 36,
     "metadata": {},
     "output_type": "execute_result"
    }
   ],
   "source": [
    "products_and_users_in_test_set"
   ]
  },
  {
   "cell_type": "code",
   "execution_count": 1,
   "metadata": {
    "scrolled": false
   },
   "outputs": [
    {
     "ename": "NameError",
     "evalue": "name 'pd' is not defined",
     "output_type": "error",
     "traceback": [
      "\u001b[0;31m---------------------------------------------------------------------------\u001b[0m",
      "\u001b[0;31mNameError\u001b[0m                                 Traceback (most recent call last)",
      "\u001b[0;32m<ipython-input-1-e6fb9286db31>\u001b[0m in \u001b[0;36m<module>\u001b[0;34m()\u001b[0m\n\u001b[1;32m      1\u001b[0m \u001b[0mTHRESHOLD\u001b[0m \u001b[0;34m=\u001b[0m \u001b[0;36m0.60\u001b[0m\u001b[0;34m\u001b[0m\u001b[0m\n\u001b[1;32m      2\u001b[0m \u001b[0;34m\u001b[0m\u001b[0m\n\u001b[0;32m----> 3\u001b[0;31m submission = pd.merge(\n\u001b[0m\u001b[1;32m      4\u001b[0m     pd.merge(\n\u001b[1;32m      5\u001b[0m         \u001b[0mproducts_and_users_in_test_set\u001b[0m\u001b[0;34m,\u001b[0m\u001b[0;34m\u001b[0m\u001b[0m\n",
      "\u001b[0;31mNameError\u001b[0m: name 'pd' is not defined"
     ]
    }
   ],
   "source": [
    "THRESHOLD = 0.60\n",
    "\n",
    "submission = pd.merge(\n",
    "    pd.merge(\n",
    "        products_and_users_in_test_set,\n",
    "        product_factors.reset_index(),\n",
    "        on='product_id',\n",
    "        how='left'\n",
    "    ).query(\n",
    "        \"product_reorder_factor > {}\".format(THRESHOLD)\n",
    "    ).groupby(\n",
    "        'user_id'\n",
    "    )[\"product_id\"].apply(\n",
    "     lambda prod_ids: ' '.join([str(int(i)) for i in sorted(set(prod_ids))])\n",
    "    ).to_frame().reset_index(),\n",
    "    users_in_test_set,\n",
    "    how='right',\n",
    "    on='user_id'\n",
    ").sort_values(\n",
    "\"order_id\"\n",
    ").fillna(\"None\")"
   ]
  },
  {
   "cell_type": "code",
   "execution_count": 2,
   "metadata": {},
   "outputs": [
    {
     "ename": "NameError",
     "evalue": "name 'submission' is not defined",
     "output_type": "error",
     "traceback": [
      "\u001b[0;31m---------------------------------------------------------------------------\u001b[0m",
      "\u001b[0;31mNameError\u001b[0m                                 Traceback (most recent call last)",
      "\u001b[0;32m<ipython-input-2-3adbc48ecf3b>\u001b[0m in \u001b[0;36m<module>\u001b[0;34m()\u001b[0m\n\u001b[0;32m----> 1\u001b[0;31m \u001b[0msubmission\u001b[0m \u001b[0;34m=\u001b[0m \u001b[0msubmission\u001b[0m\u001b[0;34m.\u001b[0m\u001b[0mreset_index\u001b[0m\u001b[0;34m(\u001b[0m\u001b[0;34m)\u001b[0m\u001b[0;34m.\u001b[0m\u001b[0mdrop\u001b[0m\u001b[0;34m(\u001b[0m\u001b[0;34m[\u001b[0m\u001b[0;34m\"index\"\u001b[0m\u001b[0;34m,\u001b[0m\u001b[0;34m\"user_id\"\u001b[0m\u001b[0;34m]\u001b[0m\u001b[0;34m,\u001b[0m\u001b[0maxis\u001b[0m\u001b[0;34m=\u001b[0m\u001b[0;36m1\u001b[0m\u001b[0;34m)\u001b[0m\u001b[0;34m.\u001b[0m\u001b[0mrename\u001b[0m\u001b[0;34m(\u001b[0m\u001b[0mcolumns\u001b[0m\u001b[0;34m=\u001b[0m\u001b[0;34m{\u001b[0m\u001b[0;34m\"product_id\"\u001b[0m\u001b[0;34m:\u001b[0m\u001b[0;34m\"products\"\u001b[0m\u001b[0;34m}\u001b[0m\u001b[0;34m)\u001b[0m\u001b[0;34m\u001b[0m\u001b[0m\n\u001b[0m",
      "\u001b[0;31mNameError\u001b[0m: name 'submission' is not defined"
     ]
    }
   ],
   "source": [
    "submission = submission.reset_index().drop([\"index\",\"user_id\"],axis=1).rename(columns={\"product_id\":\"products\"})"
   ]
  },
  {
   "cell_type": "code",
   "execution_count": 163,
   "metadata": {
    "collapsed": true
   },
   "outputs": [],
   "source": [
    "cols = submission.columns.tolist()"
   ]
  },
  {
   "cell_type": "code",
   "execution_count": 164,
   "metadata": {
    "collapsed": true
   },
   "outputs": [],
   "source": [
    "submission = submission[cols[-1:]+cols[:-1]]"
   ]
  },
  {
   "cell_type": "code",
   "execution_count": 165,
   "metadata": {
    "collapsed": true
   },
   "outputs": [],
   "source": [
    "submission.to_csv(\"submission.csv\",index=False)"
   ]
  }
 ],
 "metadata": {
  "kernelspec": {
   "display_name": "Global TF Kernel (Python 3)",
   "language": "python",
   "name": "global-tf-python-3"
  },
  "language_info": {
   "codemirror_mode": {
    "name": "ipython",
    "version": 3
   },
   "file_extension": ".py",
   "mimetype": "text/x-python",
   "name": "python",
   "nbconvert_exporter": "python",
   "pygments_lexer": "ipython3",
   "version": "3.5.2"
  }
 },
 "nbformat": 4,
 "nbformat_minor": 2
}
